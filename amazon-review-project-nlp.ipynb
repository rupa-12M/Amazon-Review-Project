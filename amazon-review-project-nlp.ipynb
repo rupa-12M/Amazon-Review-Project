{
 "cells": [
  {
   "cell_type": "code",
   "execution_count": null,
   "id": "3cb1d97b",
   "metadata": {
    "_cell_guid": "b1076dfc-b9ad-4769-8c92-a6c4dae69d19",
    "_uuid": "8f2839f25d086af736a60e9eeb907d3b93b6e0e5",
    "execution": {
     "iopub.execute_input": "2023-04-25T01:18:37.753513Z",
     "iopub.status.busy": "2023-04-25T01:18:37.752473Z",
     "iopub.status.idle": "2023-04-25T01:18:37.763332Z",
     "shell.execute_reply": "2023-04-25T01:18:37.762414Z"
    },
    "papermill": {
     "duration": 0.020543,
     "end_time": "2023-04-25T01:18:37.765528",
     "exception": false,
     "start_time": "2023-04-25T01:18:37.744985",
     "status": "completed"
    },
    "tags": []
   },
   "outputs": [],
   "source": [
    "import pandas as pd"
   ]
  },
  {
   "cell_type": "code",
   "execution_count": null,
   "id": "d0e4959c",
   "metadata": {
    "execution": {
     "iopub.execute_input": "2023-04-25T01:18:37.776855Z",
     "iopub.status.busy": "2023-04-25T01:18:37.776240Z",
     "iopub.status.idle": "2023-04-25T01:18:37.781473Z",
     "shell.execute_reply": "2023-04-25T01:18:37.780584Z"
    },
    "papermill": {
     "duration": 0.012991,
     "end_time": "2023-04-25T01:18:37.783505",
     "exception": false,
     "start_time": "2023-04-25T01:18:37.770514",
     "status": "completed"
    },
    "tags": []
   },
   "outputs": [],
   "source": [
    "def rating(num):\n",
    "    if(num == 1):\n",
    "        return 0\n",
    "    else:\n",
    "        return 1"
   ]
  },
  {
   "cell_type": "markdown",
   "id": "7c976966",
   "metadata": {
    "papermill": {
     "duration": 0.004762,
     "end_time": "2023-04-25T01:18:37.793234",
     "exception": false,
     "start_time": "2023-04-25T01:18:37.788472",
     "status": "completed"
    },
    "tags": []
   },
   "source": [
    "# Load Data"
   ]
  },
  {
   "cell_type": "code",
   "execution_count": null,
   "id": "6232b7eb",
   "metadata": {
    "execution": {
     "iopub.execute_input": "2023-04-25T01:18:37.805825Z",
     "iopub.status.busy": "2023-04-25T01:18:37.804103Z",
     "iopub.status.idle": "2023-04-25T01:19:12.332814Z",
     "shell.execute_reply": "2023-04-25T01:19:12.331796Z"
    },
    "papermill": {
     "duration": 34.537505,
     "end_time": "2023-04-25T01:19:12.335671",
     "exception": false,
     "start_time": "2023-04-25T01:18:37.798166",
     "status": "completed"
    },
    "tags": []
   },
   "outputs": [],
   "source": [
    "colnames = ['Rating', 'Title', 'Description']\n",
    "df = pd.read_csv('/kaggle/input/amazon-reviews/train.csv', names=colnames)\n",
    "df = df.sample(10000, random_state = 42)\n",
    "df['Reviews'] = df['Title'] + ' . ' + df['Description']\n",
    "df = df.drop(['Title','Description'], axis=1)\n",
    "df['Rating'] = df['Rating'].apply(rating)"
   ]
  },
  {
   "cell_type": "code",
   "execution_count": null,
   "id": "5f5d48f8",
   "metadata": {
    "execution": {
     "iopub.execute_input": "2023-04-25T01:19:12.347263Z",
     "iopub.status.busy": "2023-04-25T01:19:12.346963Z",
     "iopub.status.idle": "2023-04-25T01:19:12.361141Z",
     "shell.execute_reply": "2023-04-25T01:19:12.360214Z"
    },
    "papermill": {
     "duration": 0.022337,
     "end_time": "2023-04-25T01:19:12.363227",
     "exception": false,
     "start_time": "2023-04-25T01:19:12.340890",
     "status": "completed"
    },
    "tags": []
   },
   "outputs": [],
   "source": [
    "df.head()"
   ]
  },
  {
   "cell_type": "markdown",
   "id": "7a69a8ec",
   "metadata": {
    "papermill": {
     "duration": 0.004846,
     "end_time": "2023-04-25T01:19:12.373677",
     "exception": false,
     "start_time": "2023-04-25T01:19:12.368831",
     "status": "completed"
    },
    "tags": []
   },
   "source": [
    "# Data Cleaning"
   ]
  },
  {
   "cell_type": "code",
   "execution_count": null,
   "id": "5fade3bf",
   "metadata": {
    "execution": {
     "iopub.execute_input": "2023-04-25T01:19:12.385178Z",
     "iopub.status.busy": "2023-04-25T01:19:12.384493Z",
     "iopub.status.idle": "2023-04-25T01:19:12.402450Z",
     "shell.execute_reply": "2023-04-25T01:19:12.401576Z"
    },
    "papermill": {
     "duration": 0.026057,
     "end_time": "2023-04-25T01:19:12.404651",
     "exception": false,
     "start_time": "2023-04-25T01:19:12.378594",
     "status": "completed"
    },
    "tags": []
   },
   "outputs": [],
   "source": [
    "# remove 'No Negative' or 'No Positive' from text\n",
    "df[\"Reviews\"] = df[\"Reviews\"].apply(lambda x: x.replace(\"No Negative\", \"\").replace(\"No Positive\", \"\"))"
   ]
  },
  {
   "cell_type": "code",
   "execution_count": null,
   "id": "98cc6dac",
   "metadata": {
    "execution": {
     "iopub.execute_input": "2023-04-25T01:19:12.415898Z",
     "iopub.status.busy": "2023-04-25T01:19:12.415618Z",
     "iopub.status.idle": "2023-04-25T01:19:17.525726Z",
     "shell.execute_reply": "2023-04-25T01:19:17.524605Z"
    },
    "papermill": {
     "duration": 5.118092,
     "end_time": "2023-04-25T01:19:17.527929",
     "exception": false,
     "start_time": "2023-04-25T01:19:12.409837",
     "status": "completed"
    },
    "tags": []
   },
   "outputs": [],
   "source": [
    "import nltk\n",
    "import string\n",
    "from nltk import pos_tag\n",
    "from nltk.corpus import stopwords\n",
    "from nltk.tokenize import WhitespaceTokenizer\n",
    "\n",
    "def clean_text(text):\n",
    "    # lower text\n",
    "    text = text.lower()\n",
    "    # tokenize text and remove puncutation\n",
    "    text = [word.strip(string.punctuation) for word in text.split(\" \")]\n",
    "    # remove words that contain numbers\n",
    "    text = [word for word in text if not any(c.isdigit() for c in word)]\n",
    "    # remove stop words\n",
    "    stop = stopwords.words('english')\n",
    "    stop = [w for w in stop if w not in ['not', 'no']]\n",
    "    text = [x for x in text if (x not in stop)]\n",
    "    # remove empty tokens\n",
    "    text = [t for t in text if len(t) > 0]\n",
    "    # remove words with only one letter\n",
    "    text = [t for t in text if len(t) > 1]\n",
    "    # join all\n",
    "    text = \" \".join(text)\n",
    "    return(text)\n",
    "\n",
    "# clean text data\n",
    "df[\"review_clean\"] = df[\"Reviews\"].apply(lambda x: clean_text(x))\n",
    "df.head()"
   ]
  },
  {
   "cell_type": "code",
   "execution_count": null,
   "id": "dc43a490",
   "metadata": {},
   "outputs": [],
   "source": []
  },
  {
   "cell_type": "code",
   "execution_count": null,
   "id": "20c61ce5",
   "metadata": {},
   "outputs": [],
   "source": []
  },
  {
   "cell_type": "code",
   "execution_count": null,
   "id": "fb7ff0db",
   "metadata": {},
   "outputs": [],
   "source": []
  },
  {
   "cell_type": "markdown",
   "id": "0ced12a5",
   "metadata": {
    "papermill": {
     "duration": 0.005625,
     "end_time": "2023-04-25T01:19:17.539221",
     "exception": false,
     "start_time": "2023-04-25T01:19:17.533596",
     "status": "completed"
    },
    "tags": []
   },
   "source": [
    "# Feature Engineering"
   ]
  },
  {
   "cell_type": "code",
   "execution_count": null,
   "id": "37000766",
   "metadata": {
    "execution": {
     "iopub.execute_input": "2023-04-25T01:19:17.550985Z",
     "iopub.status.busy": "2023-04-25T01:19:17.550684Z",
     "iopub.status.idle": "2023-04-25T01:19:29.759063Z",
     "shell.execute_reply": "2023-04-25T01:19:29.758029Z"
    },
    "papermill": {
     "duration": 12.216658,
     "end_time": "2023-04-25T01:19:29.761283",
     "exception": false,
     "start_time": "2023-04-25T01:19:17.544625",
     "status": "completed"
    },
    "tags": []
   },
   "outputs": [],
   "source": [
    "# add sentiment anaylsis columns\n",
    "from nltk.sentiment.vader import SentimentIntensityAnalyzer\n",
    "\n",
    "sid = SentimentIntensityAnalyzer()\n",
    "df[\"sentiments\"] = df[\"Reviews\"].apply(lambda x: sid.polarity_scores(x))\n",
    "df = pd.concat([df.drop(['sentiments'], axis=1), df['sentiments'].apply(pd.Series)], axis=1)\n",
    "df.head()"
   ]
  },
  {
   "cell_type": "code",
   "execution_count": null,
   "id": "5fe56a7b",
   "metadata": {
    "execution": {
     "iopub.execute_input": "2023-04-25T01:19:29.776258Z",
     "iopub.status.busy": "2023-04-25T01:19:29.775403Z",
     "iopub.status.idle": "2023-04-25T01:19:29.823065Z",
     "shell.execute_reply": "2023-04-25T01:19:29.822172Z"
    },
    "papermill": {
     "duration": 0.056508,
     "end_time": "2023-04-25T01:19:29.825155",
     "exception": false,
     "start_time": "2023-04-25T01:19:29.768647",
     "status": "completed"
    },
    "tags": []
   },
   "outputs": [],
   "source": [
    "# add number of characters column\n",
    "df[\"nb_chars\"] = df[\"Reviews\"].apply(lambda x: len(x))\n",
    "\n",
    "# add number of words column\n",
    "df[\"nb_words\"] = df[\"Reviews\"].apply(lambda x: len(x.split(\" \")))"
   ]
  },
  {
   "cell_type": "code",
   "execution_count": null,
   "id": "89d78db2",
   "metadata": {
    "execution": {
     "iopub.execute_input": "2023-04-25T01:19:29.837363Z",
     "iopub.status.busy": "2023-04-25T01:19:29.837073Z",
     "iopub.status.idle": "2023-04-25T01:19:52.581412Z",
     "shell.execute_reply": "2023-04-25T01:19:52.580404Z"
    },
    "papermill": {
     "duration": 22.753403,
     "end_time": "2023-04-25T01:19:52.583895",
     "exception": false,
     "start_time": "2023-04-25T01:19:29.830492",
     "status": "completed"
    },
    "tags": []
   },
   "outputs": [],
   "source": [
    "# create doc2vec vector columns\n",
    "from gensim.test.utils import common_texts\n",
    "from gensim.models.doc2vec import Doc2Vec, TaggedDocument\n",
    "\n",
    "documents = [TaggedDocument(doc, [i]) for i, doc in enumerate(df[\"review_clean\"].apply(lambda x: x.split(\" \")))]\n",
    "\n",
    "# train a Doc2Vec model with our text data\n",
    "model = Doc2Vec(documents, vector_size=5, window=2, min_count=1, workers=4)\n",
    "\n",
    "# transform each document into a vector data\n",
    "doc2vec_df = df[\"review_clean\"].apply(lambda x: model.infer_vector(x.split(\" \"))).apply(pd.Series)\n",
    "doc2vec_df.columns = [\"doc2vec_vector_\" + str(x) for x in doc2vec_df.columns]\n",
    "df = pd.concat([df, doc2vec_df], axis=1)"
   ]
  },
  {
   "cell_type": "code",
   "execution_count": null,
   "id": "a6b6bcfd",
   "metadata": {
    "execution": {
     "iopub.execute_input": "2023-04-25T01:19:52.596745Z",
     "iopub.status.busy": "2023-04-25T01:19:52.596434Z",
     "iopub.status.idle": "2023-04-25T01:19:54.344519Z",
     "shell.execute_reply": "2023-04-25T01:19:54.343499Z"
    },
    "papermill": {
     "duration": 1.757353,
     "end_time": "2023-04-25T01:19:54.347139",
     "exception": false,
     "start_time": "2023-04-25T01:19:52.589786",
     "status": "completed"
    },
    "tags": []
   },
   "outputs": [],
   "source": [
    "# add tf-idfs columns\n",
    "from sklearn.feature_extraction.text import TfidfVectorizer\n",
    "tfidf = TfidfVectorizer(min_df = 10)\n",
    "tfidf_result = tfidf.fit_transform(df[\"review_clean\"]).toarray()\n",
    "tfidf_df = pd.DataFrame(tfidf_result, columns = tfidf.get_feature_names())\n",
    "tfidf_df.columns = [\"word_\" + str(x) for x in tfidf_df.columns]\n",
    "tfidf_df.index = df.index\n",
    "df = pd.concat([df, tfidf_df], axis=1)"
   ]
  },
  {
   "cell_type": "code",
   "execution_count": null,
   "id": "5edf8d97",
   "metadata": {
    "execution": {
     "iopub.execute_input": "2023-04-25T01:19:54.360106Z",
     "iopub.status.busy": "2023-04-25T01:19:54.359796Z",
     "iopub.status.idle": "2023-04-25T01:19:54.387526Z",
     "shell.execute_reply": "2023-04-25T01:19:54.386407Z"
    },
    "papermill": {
     "duration": 0.036563,
     "end_time": "2023-04-25T01:19:54.389690",
     "exception": false,
     "start_time": "2023-04-25T01:19:54.353127",
     "status": "completed"
    },
    "tags": []
   },
   "outputs": [],
   "source": [
    "df.head()"
   ]
  },
  {
   "cell_type": "code",
   "execution_count": null,
   "id": "eb3d1005",
   "metadata": {
    "execution": {
     "iopub.execute_input": "2023-04-25T01:19:54.404023Z",
     "iopub.status.busy": "2023-04-25T01:19:54.403748Z",
     "iopub.status.idle": "2023-04-25T01:19:54.410528Z",
     "shell.execute_reply": "2023-04-25T01:19:54.409605Z"
    },
    "papermill": {
     "duration": 0.016992,
     "end_time": "2023-04-25T01:19:54.412595",
     "exception": false,
     "start_time": "2023-04-25T01:19:54.395603",
     "status": "completed"
    },
    "tags": []
   },
   "outputs": [],
   "source": [
    "df.shape"
   ]
  },
  {
   "cell_type": "code",
   "execution_count": null,
   "id": "12150ce5",
   "metadata": {
    "execution": {
     "iopub.execute_input": "2023-04-25T01:19:54.425913Z",
     "iopub.status.busy": "2023-04-25T01:19:54.425143Z",
     "iopub.status.idle": "2023-04-25T01:19:54.434640Z",
     "shell.execute_reply": "2023-04-25T01:19:54.433601Z"
    },
    "papermill": {
     "duration": 0.018225,
     "end_time": "2023-04-25T01:19:54.436644",
     "exception": false,
     "start_time": "2023-04-25T01:19:54.418419",
     "status": "completed"
    },
    "tags": []
   },
   "outputs": [],
   "source": [
    "# show is_bad_review distribution\n",
    "df[\"Rating\"].value_counts(normalize = True)"
   ]
  },
  {
   "cell_type": "code",
   "execution_count": null,
   "id": "5b2970a3",
   "metadata": {
    "execution": {
     "iopub.execute_input": "2023-04-25T01:19:54.450188Z",
     "iopub.status.busy": "2023-04-25T01:19:54.449426Z",
     "iopub.status.idle": "2023-04-25T01:19:54.995342Z",
     "shell.execute_reply": "2023-04-25T01:19:54.994398Z"
    },
    "papermill": {
     "duration": 0.559916,
     "end_time": "2023-04-25T01:19:55.002711",
     "exception": false,
     "start_time": "2023-04-25T01:19:54.442795",
     "status": "completed"
    },
    "tags": []
   },
   "outputs": [],
   "source": [
    "# wordcloud function\n",
    "\n",
    "from wordcloud import WordCloud\n",
    "import matplotlib.pyplot as plt\n",
    "\n",
    "def show_wordcloud(data, title = None):\n",
    "    wordcloud = WordCloud(\n",
    "        background_color = 'white',\n",
    "        max_words = 300,\n",
    "        max_font_size = 40, \n",
    "        scale = 3,\n",
    "        random_state = 42\n",
    "    ).generate(str(data))\n",
    "\n",
    "    fig = plt.figure(1, figsize = (20, 20))\n",
    "    plt.axis('off')\n",
    "    if title: \n",
    "        fig.suptitle(title, fontsize = 20)\n",
    "        fig.subplots_adjust(top = 2.3)\n",
    "\n",
    "    plt.imshow(wordcloud)\n",
    "    plt.show()\n",
    "\n",
    "# print wordcloud\n",
    "show_wordcloud(df[\"Reviews\"])"
   ]
  },
  {
   "cell_type": "code",
   "execution_count": null,
   "id": "3642213d",
   "metadata": {
    "execution": {
     "iopub.execute_input": "2023-04-25T01:19:55.027945Z",
     "iopub.status.busy": "2023-04-25T01:19:55.027612Z",
     "iopub.status.idle": "2023-04-25T01:19:55.730750Z",
     "shell.execute_reply": "2023-04-25T01:19:55.729609Z"
    },
    "papermill": {
     "duration": 0.718925,
     "end_time": "2023-04-25T01:19:55.733882",
     "exception": false,
     "start_time": "2023-04-25T01:19:55.014957",
     "status": "completed"
    },
    "tags": []
   },
   "outputs": [],
   "source": [
    "# highest positive sentiment reviews (with more than 5 words)\n",
    "df[df[\"nb_words\"] >= 5].sort_values(\"pos\", ascending = False)[[\"Reviews\", \"pos\"]].head(10)"
   ]
  },
  {
   "cell_type": "code",
   "execution_count": null,
   "id": "856a9528",
   "metadata": {
    "execution": {
     "iopub.execute_input": "2023-04-25T01:19:55.774195Z",
     "iopub.status.busy": "2023-04-25T01:19:55.773638Z",
     "iopub.status.idle": "2023-04-25T01:19:56.200099Z",
     "shell.execute_reply": "2023-04-25T01:19:56.198877Z"
    },
    "papermill": {
     "duration": 0.446803,
     "end_time": "2023-04-25T01:19:56.203885",
     "exception": false,
     "start_time": "2023-04-25T01:19:55.757082",
     "status": "completed"
    },
    "tags": []
   },
   "outputs": [],
   "source": [
    "# lowest negative sentiment reviews (with more than 5 words)\n",
    "df[df[\"nb_words\"] >= 5].sort_values(\"neg\", ascending = False)[[\"Reviews\", \"neg\"]].head(10)"
   ]
  },
  {
   "cell_type": "code",
   "execution_count": null,
   "id": "bad0b94b",
   "metadata": {
    "execution": {
     "iopub.execute_input": "2023-04-25T01:19:56.229834Z",
     "iopub.status.busy": "2023-04-25T01:19:56.229266Z",
     "iopub.status.idle": "2023-04-25T01:19:56.938863Z",
     "shell.execute_reply": "2023-04-25T01:19:56.937754Z"
    },
    "papermill": {
     "duration": 0.724553,
     "end_time": "2023-04-25T01:19:56.941020",
     "exception": false,
     "start_time": "2023-04-25T01:19:56.216467",
     "status": "completed"
    },
    "tags": []
   },
   "outputs": [],
   "source": [
    "import seaborn as sns\n",
    "\n",
    "for x in [0, 1]:\n",
    "    subset = df[df['Rating'] == x]\n",
    "    \n",
    "    # Draw the density plot\n",
    "    if x == 0:\n",
    "        label = \"Good reviews\"\n",
    "    else:\n",
    "        label = \"Bad reviews\"\n",
    "    sns.distplot(subset['compound'], hist = False, label = label)\n",
    "plt.legend()"
   ]
  },
  {
   "cell_type": "code",
   "execution_count": null,
   "id": "c28b502b",
   "metadata": {
    "execution": {
     "iopub.execute_input": "2023-04-25T01:19:56.967652Z",
     "iopub.status.busy": "2023-04-25T01:19:56.967317Z",
     "iopub.status.idle": "2023-04-25T01:19:57.527529Z",
     "shell.execute_reply": "2023-04-25T01:19:57.526415Z"
    },
    "papermill": {
     "duration": 0.576504,
     "end_time": "2023-04-25T01:19:57.530334",
     "exception": false,
     "start_time": "2023-04-25T01:19:56.953830",
     "status": "completed"
    },
    "tags": []
   },
   "outputs": [],
   "source": [
    "# feature selection\n",
    "label = \"Rating\"\n",
    "ignore_cols = [label, \"Reviews\", \"review_clean\"]\n",
    "features = [c for c in df.columns if c not in ignore_cols]\n",
    "\n",
    "# split the data into train and test\n",
    "from sklearn.ensemble import RandomForestClassifier\n",
    "from sklearn.model_selection import train_test_split\n",
    "\n",
    "X_train, X_test, y_train, y_test = train_test_split(df[features], df[label], test_size = 0.20, random_state = 42)"
   ]
  },
  {
   "cell_type": "code",
   "execution_count": null,
   "id": "c0b2d210",
   "metadata": {
    "execution": {
     "iopub.execute_input": "2023-04-25T01:19:57.557164Z",
     "iopub.status.busy": "2023-04-25T01:19:57.556492Z",
     "iopub.status.idle": "2023-04-25T01:20:08.189586Z",
     "shell.execute_reply": "2023-04-25T01:20:08.188475Z"
    },
    "papermill": {
     "duration": 10.64896,
     "end_time": "2023-04-25T01:20:08.191844",
     "exception": false,
     "start_time": "2023-04-25T01:19:57.542884",
     "status": "completed"
    },
    "tags": []
   },
   "outputs": [],
   "source": [
    "# train a random forest classifier\n",
    "rf = RandomForestClassifier(n_estimators = 100, random_state = 42)\n",
    "rf.fit(X_train, y_train)\n",
    "\n",
    "# show feature importance\n",
    "feature_importances_df = pd.DataFrame({\"feature\": features, \"importance\": rf.feature_importances_}).sort_values(\"importance\", ascending = False)\n",
    "feature_importances_df.head(20)"
   ]
  },
  {
   "cell_type": "code",
   "execution_count": null,
   "id": "9b28527f",
   "metadata": {
    "execution": {
     "iopub.execute_input": "2023-04-25T01:20:08.218684Z",
     "iopub.status.busy": "2023-04-25T01:20:08.218376Z",
     "iopub.status.idle": "2023-04-25T01:20:08.792554Z",
     "shell.execute_reply": "2023-04-25T01:20:08.791480Z"
    },
    "papermill": {
     "duration": 0.590048,
     "end_time": "2023-04-25T01:20:08.794894",
     "exception": false,
     "start_time": "2023-04-25T01:20:08.204846",
     "status": "completed"
    },
    "tags": []
   },
   "outputs": [],
   "source": [
    "# ROC curve\n",
    "\n",
    "from sklearn.metrics import roc_curve, auc, roc_auc_score\n",
    "import matplotlib.pyplot as plt\n",
    "\n",
    "y_pred = [x[1] for x in rf.predict_proba(X_test)]\n",
    "y_pred1 = [x for x in rf.predict(X_test)]\n",
    "fpr, tpr, thresholds = roc_curve(y_test, y_pred, pos_label = 1)\n",
    "\n",
    "roc_auc = auc(fpr, tpr)\n",
    "\n",
    "plt.figure(1, figsize = (15, 10))\n",
    "lw = 2\n",
    "plt.plot(fpr, tpr, color='darkorange',\n",
    "         lw=lw, label='ROC curve (area = %0.2f)' % roc_auc)\n",
    "plt.plot([0, 1], [0, 1], lw=lw, linestyle='--')\n",
    "plt.xlim([0.0, 1.0])\n",
    "plt.ylim([0.0, 1.0])\n",
    "plt.xlabel('False Positive Rate')\n",
    "plt.ylabel('True Positive Rate')\n",
    "plt.title('Receiver operating characteristic example')\n",
    "plt.legend(loc=\"lower right\")\n",
    "plt.show()"
   ]
  },
  {
   "cell_type": "code",
   "execution_count": null,
   "id": "df257a21",
   "metadata": {
    "execution": {
     "iopub.execute_input": "2023-04-25T01:20:08.824209Z",
     "iopub.status.busy": "2023-04-25T01:20:08.823906Z",
     "iopub.status.idle": "2023-04-25T01:20:09.114673Z",
     "shell.execute_reply": "2023-04-25T01:20:09.113580Z"
    },
    "papermill": {
     "duration": 0.307771,
     "end_time": "2023-04-25T01:20:09.116741",
     "exception": false,
     "start_time": "2023-04-25T01:20:08.808970",
     "status": "completed"
    },
    "tags": []
   },
   "outputs": [],
   "source": [
    "# PR curve\n",
    "\n",
    "from sklearn.metrics import average_precision_score, precision_recall_curve, accuracy_score\n",
    "import inspect\n",
    "\n",
    "average_precision = average_precision_score(y_test, y_pred)\n",
    "\n",
    "precision, recall, _ = precision_recall_curve(y_test, y_pred)\n",
    "\n",
    "accuracy_scores = accuracy_score(y_test, y_pred1)\n",
    "\n",
    "print(f\"Accuracy: {accuracy_scores * 100:.2f}%\")\n",
    "\n",
    "# In matplotlib < 1.5, plt.fill_between does not have a 'step' argument\n",
    "step_kwargs = ({'step': 'post'}\n",
    "               if 'step' in inspect.signature(plt.fill_between).parameters\n",
    "               else {})\n",
    "\n",
    "plt.figure(1, figsize = (15, 10))\n",
    "plt.step(recall, precision, color='b', alpha=0.2,\n",
    "         where='post')\n",
    "plt.fill_between(recall, precision, alpha=0.2, color='b', **step_kwargs)\n",
    "\n",
    "plt.xlabel('Recall')\n",
    "plt.ylabel('Precision')\n",
    "plt.ylim([0.0, 1.05])\n",
    "plt.xlim([0.0, 1.0])\n",
    "plt.title('2-class Precision-Recall curve: AP = {0:0.2f}'.format(average_precision))"
   ]
  }
 ],
 "metadata": {
  "kernelspec": {
   "display_name": "Python 3",
   "language": "python",
   "name": "python3"
  },
  "language_info": {
   "codemirror_mode": {
    "name": "ipython",
    "version": 3
   },
   "file_extension": ".py",
   "mimetype": "text/x-python",
   "name": "python",
   "nbconvert_exporter": "python",
   "pygments_lexer": "ipython3",
   "version": "3.9.12"
  },
  "papermill": {
   "default_parameters": {},
   "duration": 101.011995,
   "end_time": "2023-04-25T01:20:09.953728",
   "environment_variables": {},
   "exception": null,
   "input_path": "__notebook__.ipynb",
   "output_path": "__notebook__.ipynb",
   "parameters": {},
   "start_time": "2023-04-25T01:18:28.941733",
   "version": "2.4.0"
  }
 },
 "nbformat": 4,
 "nbformat_minor": 5
}
